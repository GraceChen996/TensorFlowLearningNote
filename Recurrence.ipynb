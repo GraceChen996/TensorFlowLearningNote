{
  "nbformat": 4,
  "nbformat_minor": 0,
  "metadata": {
    "colab": {
      "provenance": [],
      "collapsed_sections": [],
      "authorship_tag": "ABX9TyN5Rn0+6ihtNP6iTtAr87qm",
      "include_colab_link": true
    },
    "kernelspec": {
      "name": "python3",
      "display_name": "Python 3"
    },
    "language_info": {
      "name": "python"
    }
  },
  "cells": [
    {
      "cell_type": "markdown",
      "metadata": {
        "id": "view-in-github",
        "colab_type": "text"
      },
      "source": [
        "<a href=\"https://colab.research.google.com/github/GraceChen996/TensorFlowLearningNote/blob/main/Recurrence.ipynb\" target=\"_parent\"><img src=\"https://colab.research.google.com/assets/colab-badge.svg\" alt=\"Open In Colab\"/></a>"
      ]
    },
    {
      "cell_type": "code",
      "source": [
        "from google.colab import drive\n",
        "drive.mount('/content/drive')"
      ],
      "metadata": {
        "colab": {
          "base_uri": "https://localhost:8080/"
        },
        "id": "zyio_Z_6l_6L",
        "outputId": "922116ff-95ee-46c7-fcc8-15d696971d31"
      },
      "execution_count": null,
      "outputs": [
        {
          "output_type": "stream",
          "name": "stdout",
          "text": [
            "Drive already mounted at /content/drive; to attempt to forcibly remount, call drive.mount(\"/content/drive\", force_remount=True).\n"
          ]
        }
      ]
    },
    {
      "cell_type": "code",
      "source": [
        "import sys\n",
        "sys.path.append('/content/drive/MyDrive/Colab Notebooks/test')"
      ],
      "metadata": {
        "id": "tJSFn9ggmbMP"
      },
      "execution_count": null,
      "outputs": []
    },
    {
      "cell_type": "code",
      "execution_count": 14,
      "metadata": {
        "colab": {
          "base_uri": "https://localhost:8080/"
        },
        "id": "6ZyN9TlS4wEd",
        "outputId": "7af7edd0-bbcd-4085-8f34-f19a9e27bd49"
      },
      "outputs": [
        {
          "output_type": "stream",
          "name": "stdout",
          "text": [
            "Colab only includes TensorFlow 2.x; %tensorflow_version has no effect.\n"
          ]
        }
      ],
      "source": [
        "%tensorflow_version 2.x\n",
        "import tensorflow as tf\n",
        "import numpy as np\n",
        "from tensorflow import keras\n",
        "import RL_brain\n"
      ]
    },
    {
      "cell_type": "code",
      "source": [
        "#intialization\n",
        "vec = np.ones(4)\n",
        "left = np.diag(vec)\n",
        "right = np.zeros((4,4))\n",
        "s0 = np.concatenate((left,right), axis=1)"
      ],
      "metadata": {
        "colab": {
          "base_uri": "https://localhost:8080/"
        },
        "id": "YFEw1ThG5iay",
        "outputId": "f5a5fe25-a7bf-4b3d-cbc3-7f691af02bd4"
      },
      "execution_count": null,
      "outputs": [
        {
          "output_type": "execute_result",
          "data": {
            "text/plain": [
              "(4, 8)"
            ]
          },
          "metadata": {},
          "execution_count": 35
        }
      ]
    },
    {
      "cell_type": "code",
      "source": [
        "class PolicyGradient:\n",
        "    def __init__(self, n_actions, n_features, learning_rate=0.00001, reward_decay=0.95, output_graph=False):\n",
        "        self.n_actions = n_actions\n",
        "        self.n_features = n_features\n",
        "        self.lr = learning_rate     # 学习率\n",
        "        self.gamma = reward_decay   # reward 递减率\n",
        "\n",
        "        self.ep_obs, self.ep_as, self.ep_rs = [], [], []    # 这是我们存储 回合信息的 list\n",
        "\n",
        "        self._build_net()   # 建立 policy 神经网络\n",
        "\n",
        "        self.sess = tf.Session()\n",
        "\n",
        "        if output_graph:    # 是否输出 tensorboard 文件\n",
        "            # $ tensorboard --logdir=logs\n",
        "            # http://0.0.0.0:6006/\n",
        "            # tf.train.SummaryWriter soon be deprecated, use following\n",
        "            tf.summary.FileWriter(\"logs/\", self.sess.graph)\n",
        "\n",
        "        self.sess.run(tf.global_variables_initializer())"
      ],
      "metadata": {
        "id": "pAblck0zfKLy"
      },
      "execution_count": null,
      "outputs": []
    },
    {
      "cell_type": "code",
      "source": [
        "model = keras.Sequential()\n",
        "model.add(keras.layers.Flatten())\n",
        "model.add(keras.layers.Dense(32,activation='relu'))\n",
        "model.add(keras.layers.Dense(32,activation='relu'))\n",
        "model.add(keras.layers.Dense(16,activation='sigmoid'))\n"
      ],
      "metadata": {
        "id": "WCPBGo6gCiz6"
      },
      "execution_count": null,
      "outputs": []
    },
    {
      "cell_type": "code",
      "source": [
        "model.compile(optimizer='adam', #adam是一种用于梯度下降的算法\n",
        "      )"
      ],
      "metadata": {
        "id": "UnIzO74zFGwP"
      },
      "execution_count": null,
      "outputs": []
    },
    {
      "cell_type": "code",
      "source": [
        "from google.colab import drive\n",
        "drive.mount('/content/drive')"
      ],
      "metadata": {
        "id": "xq2BQH8fhWI1"
      },
      "execution_count": null,
      "outputs": []
    },
    {
      "cell_type": "code",
      "source": [],
      "metadata": {
        "id": "fuW8_F0Uhf3K"
      },
      "execution_count": null,
      "outputs": []
    },
    {
      "cell_type": "code",
      "source": [
        "model.fit(s0)"
      ],
      "metadata": {
        "id": "iWJUIjtOFpx8"
      },
      "execution_count": null,
      "outputs": []
    }
  ]
}