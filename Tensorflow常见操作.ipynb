{
  "nbformat": 4,
  "nbformat_minor": 0,
  "metadata": {
    "colab": {
      "provenance": [],
      "collapsed_sections": [],
      "authorship_tag": "ABX9TyNMkBANwo54Dpeu53WYURoY",
      "include_colab_link": true
    },
    "kernelspec": {
      "name": "python3",
      "display_name": "Python 3"
    },
    "language_info": {
      "name": "python"
    }
  },
  "cells": [
    {
      "cell_type": "markdown",
      "metadata": {
        "id": "view-in-github",
        "colab_type": "text"
      },
      "source": [
        "<a href=\"https://colab.research.google.com/github/GraceChen996/TensorFlowLearningNote/blob/branch1/Tensorflow%E5%B8%B8%E8%A7%81%E6%93%8D%E4%BD%9C.ipynb\" target=\"_parent\"><img src=\"https://colab.research.google.com/assets/colab-badge.svg\" alt=\"Open In Colab\"/></a>"
      ]
    },
    {
      "cell_type": "code",
      "source": [
        "import tensorflow as tf\n",
        "import numpy as np"
      ],
      "metadata": {
        "id": "O-Av_bgk2Irz"
      },
      "execution_count": 2,
      "outputs": []
    },
    {
      "cell_type": "markdown",
      "source": [
        "# 矩阵乘法"
      ],
      "metadata": {
        "id": "6LkZYN9q67YR"
      }
    },
    {
      "cell_type": "code",
      "execution_count": 22,
      "metadata": {
        "colab": {
          "base_uri": "https://localhost:8080/"
        },
        "id": "TSxk7G6RvlH_",
        "outputId": "6d0a5327-747f-4b15-e7dd-6e17a504bfff"
      },
      "outputs": [
        {
          "output_type": "execute_result",
          "data": {
            "text/plain": [
              "<tf.Tensor: shape=(1, 1), dtype=int32, numpy=array([[1]], dtype=int32)>"
            ]
          },
          "metadata": {},
          "execution_count": 22
        }
      ],
      "source": [
        "#矩阵乘法运算\n",
        "a=[[1]]\n",
        "b=[[1]]\n",
        "m=tf.linalg.matmul(a,b) #将矩阵a和矩阵b相乘，返回a*b"
      ]
    },
    {
      "cell_type": "markdown",
      "source": [
        "# constant"
      ],
      "metadata": {
        "id": "51N5Z72m694I"
      }
    },
    {
      "cell_type": "code",
      "source": [
        "#从一个张量类型创建一个常量类型\n",
        "'''tf.constant(\n",
        "#    value, dtype=None, shape=None, name='Const'\n",
        "#)\n",
        "'''\n",
        "x1 = tf.constant([1,2,3,4,5,6],dtype='float32') #数据类型转换\n",
        "print(x1)\n",
        "x2 = tf.constant([1,2,3,4,5,6],shape=(2,3)) #张量格式转换\n",
        "print(x2)"
      ],
      "metadata": {
        "colab": {
          "base_uri": "https://localhost:8080/"
        },
        "id": "q33_9MgI4D4a",
        "outputId": "66cc6090-6b35-44f2-fba6-b2a031b98507"
      },
      "execution_count": 32,
      "outputs": [
        {
          "output_type": "stream",
          "name": "stdout",
          "text": [
            "tf.Tensor([1. 2. 3. 4. 5. 6.], shape=(6,), dtype=float32)\n",
            "tf.Tensor(\n",
            "[[1 2 3]\n",
            " [4 5 6]], shape=(2, 3), dtype=int32)\n"
          ]
        }
      ]
    },
    {
      "cell_type": "markdown",
      "source": [
        "# 格式转换"
      ],
      "metadata": {
        "id": "-ZHqQ4sY6zPZ"
      }
    },
    {
      "cell_type": "code",
      "source": [
        "x1.numpy() #将张量转换成numpy格式\n",
        "x1"
      ],
      "metadata": {
        "colab": {
          "base_uri": "https://localhost:8080/"
        },
        "id": "BLuXe9Gp5y5d",
        "outputId": "bbb3e4f4-7678-4c0b-ddae-71e70b370311"
      },
      "execution_count": 40,
      "outputs": [
        {
          "output_type": "execute_result",
          "data": {
            "text/plain": [
              "<tf.Tensor: shape=(6,), dtype=int32, numpy=array([1, 2, 3, 4, 5, 6], dtype=int32)>"
            ]
          },
          "metadata": {},
          "execution_count": 40
        }
      ]
    },
    {
      "cell_type": "code",
      "source": [
        "'''\n",
        "tf.cast(\n",
        "    x, dtype, name=None\n",
        ")\n",
        "'''\n",
        "x1 = tf.cast(x1,tf.int32) #将浮点类型的张量又转成了int类型\n",
        "print(x1)"
      ],
      "metadata": {
        "colab": {
          "base_uri": "https://localhost:8080/"
        },
        "id": "YqmsmB1_6ygP",
        "outputId": "e16379e4-0d36-4b58-b69a-9ab5f6bd7d2e"
      },
      "execution_count": 38,
      "outputs": [
        {
          "output_type": "stream",
          "name": "stdout",
          "text": [
            "tf.Tensor([1 2 3 4 5 6], shape=(6,), dtype=int32)\n"
          ]
        }
      ]
    },
    {
      "cell_type": "code",
      "source": [
        "'''\n",
        "numpy.multiply(\n",
        "  x1, x2, /, out=None, *, where=True, casting='same_kind', order='K', dtype=None, subok=True[, signature, extobj]\n",
        ")\n",
        "'''\n",
        "x = np.ones([2,2])\n",
        "print(x)\n",
        "x = tf.multiply(x,2)\n",
        "print(x)"
      ],
      "metadata": {
        "colab": {
          "base_uri": "https://localhost:8080/"
        },
        "id": "WLHRjCNs7qat",
        "outputId": "8b37280a-54e5-42fc-c697-efc7d4f13b3e"
      },
      "execution_count": 3,
      "outputs": [
        {
          "output_type": "stream",
          "name": "stdout",
          "text": [
            "[[1. 1.]\n",
            " [1. 1.]]\n",
            "tf.Tensor(\n",
            "[[2. 2.]\n",
            " [2. 2.]], shape=(2, 2), dtype=float64)\n"
          ]
        }
      ]
    }
  ]
}