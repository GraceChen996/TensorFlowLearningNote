{
  "nbformat": 4,
  "nbformat_minor": 0,
  "metadata": {
    "colab": {
      "provenance": [],
      "collapsed_sections": [],
      "authorship_tag": "ABX9TyNMXKFpUBMlnMEFBtu2bYag",
      "include_colab_link": true
    },
    "kernelspec": {
      "name": "python3",
      "display_name": "Python 3"
    },
    "language_info": {
      "name": "python"
    }
  },
  "cells": [
    {
      "cell_type": "markdown",
      "metadata": {
        "id": "view-in-github",
        "colab_type": "text"
      },
      "source": [
        "<a href=\"https://colab.research.google.com/github/GraceChen996/TensorFlowLearningNote/blob/branch1/NeuralNetwork.ipynb\" target=\"_parent\"><img src=\"https://colab.research.google.com/assets/colab-badge.svg\" alt=\"Open In Colab\"/></a>"
      ]
    },
    {
      "cell_type": "markdown",
      "source": [
        "#神经网络结构"
      ],
      "metadata": {
        "id": "y5o9P8ci-xrU"
      }
    },
    {
      "cell_type": "markdown",
      "source": [
        "\n",
        "**神经网络被视为一个黑箱**\n",
        "+ 输入层：该层接收我们需要处理的数据\n",
        "+ 输出层：我们希望输出层的值在[0,1]之间，\n",
        "+ 隐藏层：在使用神经网络时，该层无法被观察到\n",
        "+ 权重：节点和节点的连接之间存在权重\n",
        "+ 激活函数：用于保证所得到的值能处于[0,1]之间\n",
        "+ 损失/代价函数：损失函数用于衡量实际输出和期望输出之间的差距\n",
        "+ 梯度：最小化损失函数的方向"
      ],
      "metadata": {
        "id": "R2txSX02x7YL"
      }
    },
    {
      "cell_type": "markdown",
      "source": [
        "#Imports"
      ],
      "metadata": {
        "id": "4Cu1ij31UmiI"
      }
    },
    {
      "cell_type": "code",
      "source": [
        "%tensorflow_version 2.x\n",
        "import tensorflow as tf\n",
        "from tensorflow import keras\n",
        "\n",
        "import numpy as np\n",
        "import matplotlib.pyplot as plt\n"
      ],
      "metadata": {
        "colab": {
          "base_uri": "https://localhost:8080/"
        },
        "id": "8qhAkU0W-t-6",
        "outputId": "5135c7a0-80d6-4456-c025-cc99f403d355"
      },
      "execution_count": 3,
      "outputs": [
        {
          "output_type": "stream",
          "name": "stdout",
          "text": [
            "Colab only includes TensorFlow 2.x; %tensorflow_version has no effect.\n"
          ]
        }
      ]
    },
    {
      "cell_type": "markdown",
      "source": [
        "#Dataset"
      ],
      "metadata": {
        "id": "j91iDOOEUupC"
      }
    },
    {
      "cell_type": "markdown",
      "source": [
        "该样例使用了MNIST Fashion Dataset。\n",
        "该样例包括了60,000张图片来训练神经网络，10,000张图片来对神经网络进行测试"
      ],
      "metadata": {
        "id": "sV6zrd6DU3tc"
      }
    },
    {
      "cell_type": "code",
      "source": [
        "fashion_mnist = keras.datasets.fashion_mnist\n",
        "(train_images,train_labels),(test_images,test_labels) = fashion_mnist.load_data()"
      ],
      "metadata": {
        "id": "Et75deB2-wvT"
      },
      "execution_count": 12,
      "outputs": []
    },
    {
      "cell_type": "code",
      "source": [
        "class_names = ['T-shirt/top','Trouser','Pullover','Dress','Coat','Sandal','Shirt','Sneaker'\n",
        ",'Bag','Ankle boot']"
      ],
      "metadata": {
        "id": "3laXHlPYZHbl"
      },
      "execution_count": 10,
      "outputs": []
    },
    {
      "cell_type": "code",
      "source": [
        "train_images.shape"
      ],
      "metadata": {
        "colab": {
          "base_uri": "https://localhost:8080/"
        },
        "id": "TiS4btTaWkFk",
        "outputId": "f9f852de-76ef-4555-b1cc-3ec1efb4585e"
      },
      "execution_count": 5,
      "outputs": [
        {
          "output_type": "execute_result",
          "data": {
            "text/plain": [
              "(60000, 28, 28)"
            ]
          },
          "metadata": {},
          "execution_count": 5
        }
      ]
    },
    {
      "cell_type": "code",
      "source": [
        "train_images[0,23,23]"
      ],
      "metadata": {
        "colab": {
          "base_uri": "https://localhost:8080/"
        },
        "id": "GAImp7C1Wyyu",
        "outputId": "010c7fd6-b5be-4477-bf42-bd9c3cc016b0"
      },
      "execution_count": 6,
      "outputs": [
        {
          "output_type": "execute_result",
          "data": {
            "text/plain": [
              "194"
            ]
          },
          "metadata": {},
          "execution_count": 6
        }
      ]
    },
    {
      "cell_type": "code",
      "source": [
        "train_labels[:10]"
      ],
      "metadata": {
        "colab": {
          "base_uri": "https://localhost:8080/"
        },
        "id": "7emC25HyXPm8",
        "outputId": "a48a69b7-16e9-4706-a864-e39c5f54ad1d"
      },
      "execution_count": 7,
      "outputs": [
        {
          "output_type": "execute_result",
          "data": {
            "text/plain": [
              "array([9, 0, 0, 3, 0, 2, 7, 2, 5, 5], dtype=uint8)"
            ]
          },
          "metadata": {},
          "execution_count": 7
        }
      ]
    },
    {
      "cell_type": "markdown",
      "source": [
        "查看图片的样子"
      ],
      "metadata": {
        "id": "sxFukecEXsxz"
      }
    },
    {
      "cell_type": "code",
      "source": [
        "plt.figure()\n",
        "plt.imshow(train_images[1])\n",
        "plt.colorbar()\n",
        "plt.grid(False)\n",
        "plt.show()"
      ],
      "metadata": {
        "colab": {
          "base_uri": "https://localhost:8080/",
          "height": 265
        },
        "id": "a6k1SnTbXaly",
        "outputId": "e8c64f2c-8b31-448f-9e9b-2ef5246ab55a"
      },
      "execution_count": 8,
      "outputs": [
        {
          "output_type": "display_data",
          "data": {
            "text/plain": [
              "<Figure size 432x288 with 2 Axes>"
            ],
            "image/png": "[encoded data removed]"
          },
          "metadata": {
            "needs_background": "light"
          }
        }
      ]
    },
    {
      "cell_type": "markdown",
      "source": [
        "#数据预处理"
      ],
      "metadata": {
        "id": "ohPhcSyXX1Zj"
      }
    },
    {
      "cell_type": "markdown",
      "source": [
        "建立模型前的最后一步就是对数据进行预处理，即在将数据提供给模型前先进行一些转换。\n",
        "<br>\n",
        "在该样例中，我们尝试将每个值都除以255.0，因为较小的数值更加便于计算"
      ],
      "metadata": {
        "id": "CnB9pp3uYIND"
      }
    },
    {
      "cell_type": "code",
      "source": [
        "train_images = train_images / 255.0\n",
        "test_images = test_images / 255.0"
      ],
      "metadata": {
        "id": "UhyMriDwX3Fs"
      },
      "execution_count": 13,
      "outputs": []
    },
    {
      "cell_type": "markdown",
      "source": [
        "#建立模型"
      ],
      "metadata": {
        "id": "Qao8W46yX4AA"
      }
    },
    {
      "cell_type": "code",
      "source": [
        "model = keras.Sequential([\n",
        "    keras.layers.Flatten(input_shape=(28,28)), #input layer\n",
        "    #dense意味着本层的任一节点都与上一层的全部节点相连接\n",
        "    keras.layers.Dense(128,activation='relu'), #hidden layer\n",
        "    keras.layers.Dense(10,activation='softmax') #output layer\n",
        "])"
      ],
      "metadata": {
        "id": "KPz4uYQFY9J7"
      },
      "execution_count": 17,
      "outputs": []
    },
    {
      "cell_type": "markdown",
      "source": [
        "#编译模型"
      ],
      "metadata": {
        "id": "WmJXIPnubPDk"
      }
    },
    {
      "cell_type": "code",
      "source": [
        "model.compile(optimizer='adam', #adam是一种用于梯度下降的算法\n",
        "      loss='sparse_categorical_crossentropy',\n",
        "      metrics=['accuracy']\n",
        "      )"
      ],
      "metadata": {
        "id": "Hca3D5lRbR3R"
      },
      "execution_count": 18,
      "outputs": []
    },
    {
      "cell_type": "markdown",
      "source": [
        "#训练模型"
      ],
      "metadata": {
        "id": "rD_SDtiob9zY"
      }
    },
    {
      "cell_type": "code",
      "source": [
        "model.fit(train_images,train_labels,epochs=10)"
      ],
      "metadata": {
        "colab": {
          "base_uri": "https://localhost:8080/"
        },
        "id": "ldbn_rElcAEV",
        "outputId": "2425b5c5-961f-46a7-9f90-60b95983fe08"
      },
      "execution_count": 19,
      "outputs": [
        {
          "output_type": "stream",
          "name": "stdout",
          "text": [
            "Epoch 1/10\n",
            "1875/1875 [==============================] - 5s 2ms/step - loss: 0.4949 - accuracy: 0.8266\n",
            "Epoch 2/10\n",
            "1875/1875 [==============================] - 4s 2ms/step - loss: 0.3731 - accuracy: 0.8659\n",
            "Epoch 3/10\n",
            "1875/1875 [==============================] - 4s 2ms/step - loss: 0.3357 - accuracy: 0.8777\n",
            "Epoch 4/10\n",
            "1875/1875 [==============================] - 6s 3ms/step - loss: 0.3108 - accuracy: 0.8858\n",
            "Epoch 5/10\n",
            "1875/1875 [==============================] - 4s 2ms/step - loss: 0.2959 - accuracy: 0.8906\n",
            "Epoch 6/10\n",
            "1875/1875 [==============================] - 4s 2ms/step - loss: 0.2773 - accuracy: 0.8969\n",
            "Epoch 7/10\n",
            "1875/1875 [==============================] - 4s 2ms/step - loss: 0.2686 - accuracy: 0.9001\n",
            "Epoch 8/10\n",
            "1875/1875 [==============================] - 4s 2ms/step - loss: 0.2565 - accuracy: 0.9054\n",
            "Epoch 9/10\n",
            "1875/1875 [==============================] - 4s 2ms/step - loss: 0.2468 - accuracy: 0.9077\n",
            "Epoch 10/10\n",
            "1875/1875 [==============================] - 5s 2ms/step - loss: 0.2371 - accuracy: 0.9116\n"
          ]
        },
        {
          "output_type": "execute_result",
          "data": {
            "text/plain": [
              "<keras.callbacks.History at 0x7fd542083350>"
            ]
          },
          "metadata": {},
          "execution_count": 19
        }
      ]
    },
    {
      "cell_type": "markdown",
      "source": [
        "#评估模型"
      ],
      "metadata": {
        "id": "rNV4XLWjcn9D"
      }
    },
    {
      "cell_type": "markdown",
      "source": [
        "使用keras的工具verbose.\n",
        "<br><br>\n",
        "通过样例可以发现，上文中显示的测试准确性是91%左右，而使用verbose工具评估出的结果是88%左右。这是因为在上文中，出现了过拟合的情况。\n",
        "<br><br>\n",
        "由于神经网络是一个黑盒，我们无法直接看见过拟合问题是如何产生的，所以只能通过调整参数（迭代次数，损失函数等）来解决该问题。"
      ],
      "metadata": {
        "id": "kpGcqAoGcu3U"
      }
    },
    {
      "cell_type": "code",
      "source": [
        "test_loss,test_acc = model.evaluate(test_images,test_labels,verbose=1)\n",
        "print('Test accuracy:',test_acc)"
      ],
      "metadata": {
        "colab": {
          "base_uri": "https://localhost:8080/"
        },
        "id": "cugzKB-3crLI",
        "outputId": "a7a91dbf-ef78-42cd-a70d-4d7b769f7ef4"
      },
      "execution_count": 21,
      "outputs": [
        {
          "output_type": "stream",
          "name": "stdout",
          "text": [
            "313/313 [==============================] - 1s 2ms/step - loss: 0.3419 - accuracy: 0.8842\n",
            "Test accuracy: 0.8841999769210815\n"
          ]
        }
      ]
    },
    {
      "cell_type": "markdown",
      "source": [
        "#做预测"
      ],
      "metadata": {
        "id": "y8w5EoWQesTx"
      }
    },
    {
      "cell_type": "code",
      "source": [
        "predictions = model.predict(test_images)\n",
        "print(predictions)"
      ],
      "metadata": {
        "id": "bTJ0m2jkev25"
      },
      "execution_count": null,
      "outputs": []
    },
    {
      "cell_type": "code",
      "source": [
        "test_images.shape"
      ],
      "metadata": {
        "colab": {
          "base_uri": "https://localhost:8080/"
        },
        "id": "V2hE5sjye3lp",
        "outputId": "e235fa72-5646-46d2-a801-8bc94352e650"
      },
      "execution_count": 23,
      "outputs": [
        {
          "output_type": "execute_result",
          "data": {
            "text/plain": [
              "(10000, 28, 28)"
            ]
          },
          "metadata": {},
          "execution_count": 23
        }
      ]
    },
    {
      "cell_type": "markdown",
      "source": [
        "#修正预测"
      ],
      "metadata": {
        "id": "CY4E6dHwvgln"
      }
    },
    {
      "cell_type": "code",
      "source": [],
      "metadata": {
        "id": "Z8lUfGFUvkxJ"
      },
      "execution_count": null,
      "outputs": []
    }
  ]
}