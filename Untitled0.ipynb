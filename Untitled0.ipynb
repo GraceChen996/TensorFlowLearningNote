{
  "nbformat": 4,
  "nbformat_minor": 0,
  "metadata": {
    "colab": {
      "provenance": [],
      "collapsed_sections": [],
      "authorship_tag": "ABX9TyO/RjTTq8sAGuZ0juZ42/+N",
      "include_colab_link": true
    },
    "kernelspec": {
      "name": "python3",
      "display_name": "Python 3"
    },
    "language_info": {
      "name": "python"
    }
  },
  "cells": [
    {
      "cell_type": "markdown",
      "metadata": {
        "id": "view-in-github",
        "colab_type": "text"
      },
      "source": [
        "<a href=\"https://colab.research.google.com/github/GraceChen996/TensorFlowLearningNote/blob/branch1/Untitled0.ipynb\" target=\"_parent\"><img src=\"https://colab.research.google.com/assets/colab-badge.svg\" alt=\"Open In Colab\"/></a>"
      ]
    },
    {
      "cell_type": "markdown",
      "source": [
        "#初识TensorFlow\n"
      ],
      "metadata": {
        "id": "J47JJIoe3lEo"
      }
    },
    {
      "cell_type": "markdown",
      "source": [
        "##在线导入TensorFlow"
      ],
      "metadata": {
        "id": "pK4pfKQSW0dP"
      }
    },
    {
      "cell_type": "code",
      "execution_count": null,
      "metadata": {
        "colab": {
          "base_uri": "https://localhost:8080/"
        },
        "id": "rjs4oDokzgh1",
        "outputId": "c71e28bf-88d7-43d8-f8d8-97ce2204e95b"
      },
      "outputs": [
        {
          "output_type": "stream",
          "name": "stdout",
          "text": [
            "Colab only includes TensorFlow 2.x; %tensorflow_version has no effect.\n",
            "<module 'tensorflow._api.v2.version' from '/usr/local/lib/python3.7/dist-packages/tensorflow/_api/v2/version/__init__.py'>\n"
          ]
        }
      ],
      "source": [
        "%tensorflow_version 2.x\n",
        "import tensorflow as tf\n",
        "print(tf.version) ##便于查看tensorflow的版本"
      ]
    },
    {
      "cell_type": "markdown",
      "source": [
        "##创建向量\n",
        "向量是具有统一类型的多维数组"
      ],
      "metadata": {
        "id": "8VBadktQ6v5W"
      }
    },
    {
      "cell_type": "code",
      "source": [
        "string = tf.Variable(\"this is a string\",tf.string)\n",
        "number = tf.Variable(324,tf.int16)\n",
        "floating = tf.Variable(3.545,tf.float64)"
      ],
      "metadata": {
        "id": "Y5oV0kvv3kFs"
      },
      "execution_count": null,
      "outputs": []
    },
    {
      "cell_type": "markdown",
      "source": [
        "##Rank/Degree of Tensors(向量的秩)\n",
        "标量：rank 0\n",
        "每比标量多一维，rank就加1"
      ],
      "metadata": {
        "id": "IUUOpH677NZw"
      }
    },
    {
      "cell_type": "code",
      "source": [
        "rank1_tensor = tf.Variable([\"test1\",\"ok\"],tf.string)\n",
        "rank2_tensor = tf.Variable([[\"test1\",\"ok\"],[\"test2\",\"ok\"]],tf.string)"
      ],
      "metadata": {
        "id": "x0sYS2pB74_6"
      },
      "execution_count": null,
      "outputs": []
    },
    {
      "cell_type": "markdown",
      "source": [
        "确定向量的维数"
      ],
      "metadata": {
        "id": "hQomYj59BBxn"
      }
    },
    {
      "cell_type": "code",
      "source": [
        "tf.rank(rank2_tensor)"
      ],
      "metadata": {
        "colab": {
          "base_uri": "https://localhost:8080/"
        },
        "id": "lFLa-wH3BKlB",
        "outputId": "7deedbce-8ad0-4c9d-e8fa-3aee6572ed7f"
      },
      "execution_count": null,
      "outputs": [
        {
          "output_type": "execute_result",
          "data": {
            "text/plain": [
              "<tf.Tensor: shape=(), dtype=int32, numpy=2>"
            ]
          },
          "metadata": {},
          "execution_count": 4
        }
      ]
    },
    {
      "cell_type": "markdown",
      "source": [
        "##向量的形状\n",
        "shape of tensor显示的是每一维的元素数量\n",
        "![image.png](data:image/png;base64,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)"
      ],
      "metadata": {
        "id": "sPOkhBypBg8N"
      }
    },
    {
      "cell_type": "code",
      "source": [
        "rank2_tensor.shape"
      ],
      "metadata": {
        "colab": {
          "base_uri": "https://localhost:8080/"
        },
        "id": "rP8NHrG_BlLO",
        "outputId": "f50b4c70-0a51-41b4-e082-9c24b1eed821"
      },
      "execution_count": null,
      "outputs": [
        {
          "output_type": "execute_result",
          "data": {
            "text/plain": [
              "TensorShape([2, 2])"
            ]
          },
          "metadata": {},
          "execution_count": 5
        }
      ]
    },
    {
      "cell_type": "markdown",
      "source": [
        "##改变张量的形状\n",
        "\n",
        "**例子解释：**\n",
        "tensor1是一个包含六个元素的向量，tensor3中只给出第一维的具体数值，第二维置为-1，tf会根据元素总数对第二维的值进行计算。\n",
        "\n",
        "因此，最后得到的tensor3会是一个[3,2]的向量\n"
      ],
      "metadata": {
        "id": "v1e0ZPlNRAFh"
      }
    },
    {
      "cell_type": "code",
      "source": [
        "tensor1 = tf.ones([1,2,3])\n",
        "print(tensor1)\n",
        "tensor2 = tf.reshape(tensor1,[2,3,1])\n",
        "tensor3 = tf.reshape(tensor1,[3,-1])"
      ],
      "metadata": {
        "id": "YUUH7P72RGPp"
      },
      "execution_count": null,
      "outputs": []
    },
    {
      "cell_type": "code",
      "source": [
        "print(tensor1)\n",
        "print(tensor2)\n",
        "print(tensor3)"
      ],
      "metadata": {
        "colab": {
          "base_uri": "https://localhost:8080/"
        },
        "id": "krz5O3G5R1Yu",
        "outputId": "8c61ca21-d651-43f0-bd99-d314248a83a1"
      },
      "execution_count": null,
      "outputs": [
        {
          "output_type": "stream",
          "name": "stdout",
          "text": [
            "tf.Tensor(\n",
            "[[[1. 1. 1.]\n",
            "  [1. 1. 1.]]], shape=(1, 2, 3), dtype=float32)\n",
            "tf.Tensor(\n",
            "[[[1.]\n",
            "  [1.]\n",
            "  [1.]]\n",
            "\n",
            " [[1.]\n",
            "  [1.]\n",
            "  [1.]]], shape=(2, 3, 1), dtype=float32)\n",
            "tf.Tensor(\n",
            "[[1. 1.]\n",
            " [1. 1.]\n",
            " [1. 1.]], shape=(3, 2), dtype=float32)\n"
          ]
        }
      ]
    },
    {
      "cell_type": "markdown",
      "source": [
        "##向量类型\n",
        "\n",
        "\n",
        "*   变量(Variable)\n",
        "*   常量(Constant)\n",
        "*   占位符(Placeholder)\n",
        "*   稀疏向量(SparseTensor)\n",
        "\n",
        "除变量类型之外，所有的向量类型在执行过程中都不能改变它们的值\n",
        "\n",
        "\n",
        "\n"
      ],
      "metadata": {
        "id": "s_WR_Y7PFX3Q"
      }
    },
    {
      "cell_type": "markdown",
      "source": [
        "##评估向量\n"
      ],
      "metadata": {
        "id": "WfBmHx6CGXoX"
      }
    },
    {
      "cell_type": "code",
      "source": [
        "with tf.Session() as sess:\n",
        "  tensor.eval()"
      ],
      "metadata": {
        "id": "EjmNAsoPF_rW"
      },
      "execution_count": null,
      "outputs": []
    }
  ]
}