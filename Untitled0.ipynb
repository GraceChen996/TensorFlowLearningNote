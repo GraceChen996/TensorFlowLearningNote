{
  "nbformat": 4,
  "nbformat_minor": 0,
  "metadata": {
    "colab": {
      "provenance": [],
      "collapsed_sections": [],
      "toc_visible": true,
      "authorship_tag": "ABX9TyNdSLRaa//lqazzzz6PYdw0",
      "include_colab_link": true
    },
    "kernelspec": {
      "name": "python3",
      "display_name": "Python 3"
    },
    "language_info": {
      "name": "python"
    }
  },
  "cells": [
    {
      "cell_type": "markdown",
      "metadata": {
        "id": "view-in-github",
        "colab_type": "text"
      },
      "source": [
        "<a href=\"https://colab.research.google.com/github/GraceChen996/TensorFlowLearningNote/blob/branch1/Untitled0.ipynb\" target=\"_parent\"><img src=\"https://colab.research.google.com/assets/colab-badge.svg\" alt=\"Open In Colab\"/></a>"
      ]
    },
    {
      "cell_type": "markdown",
      "source": [
        "#初识TensorFlow\n"
      ],
      "metadata": {
        "id": "J47JJIoe3lEo"
      }
    },
    {
      "cell_type": "markdown",
      "source": [
        "##在线导入TensorFlow"
      ],
      "metadata": {
        "id": "pK4pfKQSW0dP"
      }
    },
    {
      "cell_type": "code",
      "execution_count": 1,
      "metadata": {
        "colab": {
          "base_uri": "https://localhost:8080/"
        },
        "id": "rjs4oDokzgh1",
        "outputId": "c71e28bf-88d7-43d8-f8d8-97ce2204e95b"
      },
      "outputs": [
        {
          "output_type": "stream",
          "name": "stdout",
          "text": [
            "Colab only includes TensorFlow 2.x; %tensorflow_version has no effect.\n",
            "<module 'tensorflow._api.v2.version' from '/usr/local/lib/python3.7/dist-packages/tensorflow/_api/v2/version/__init__.py'>\n"
          ]
        }
      ],
      "source": [
        "%tensorflow_version 2.x\n",
        "import tensorflow as tf\n",
        "print(tf.version)"
      ]
    },
    {
      "cell_type": "markdown",
      "source": [
        "##创建向量"
      ],
      "metadata": {
        "id": "8VBadktQ6v5W"
      }
    },
    {
      "cell_type": "code",
      "source": [
        "string = tf.Variable(\"this is a string\",tf.string)\n",
        "number = tf.Variable(324,tf.int16)\n",
        "floating = tf.Variable(3.545,tf.float64)"
      ],
      "metadata": {
        "id": "Y5oV0kvv3kFs"
      },
      "execution_count": 2,
      "outputs": []
    },
    {
      "cell_type": "markdown",
      "source": [
        "##Rank/Degree of Tensors(向量的秩)\n",
        "标量：rank 0\n",
        "每比标量多一维，rank就加1"
      ],
      "metadata": {
        "id": "IUUOpH677NZw"
      }
    },
    {
      "cell_type": "code",
      "source": [
        "rank1_tensor = tf.Variable([\"test1\",\"ok\"],tf.string)\n",
        "rank2_tensor = tf.Variable([[\"test1\",\"ok\"],[\"test2\",\"ok\"]],tf.string)"
      ],
      "metadata": {
        "id": "x0sYS2pB74_6"
      },
      "execution_count": 3,
      "outputs": []
    },
    {
      "cell_type": "markdown",
      "source": [
        "确定向量的维数"
      ],
      "metadata": {
        "id": "hQomYj59BBxn"
      }
    },
    {
      "cell_type": "code",
      "source": [
        "tf.rank(rank2_tensor)"
      ],
      "metadata": {
        "colab": {
          "base_uri": "https://localhost:8080/"
        },
        "id": "lFLa-wH3BKlB",
        "outputId": "7deedbce-8ad0-4c9d-e8fa-3aee6572ed7f"
      },
      "execution_count": 4,
      "outputs": [
        {
          "output_type": "execute_result",
          "data": {
            "text/plain": [
              "<tf.Tensor: shape=(), dtype=int32, numpy=2>"
            ]
          },
          "metadata": {},
          "execution_count": 4
        }
      ]
    },
    {
      "cell_type": "markdown",
      "source": [
        "##向量的形状\n",
        "shape of tensor显示的是每一维的元素数量"
      ],
      "metadata": {
        "id": "sPOkhBypBg8N"
      }
    },
    {
      "cell_type": "code",
      "source": [
        "rank2_tensor.shape"
      ],
      "metadata": {
        "colab": {
          "base_uri": "https://localhost:8080/"
        },
        "id": "rP8NHrG_BlLO",
        "outputId": "f50b4c70-0a51-41b4-e082-9c24b1eed821"
      },
      "execution_count": 5,
      "outputs": [
        {
          "output_type": "execute_result",
          "data": {
            "text/plain": [
              "TensorShape([2, 2])"
            ]
          },
          "metadata": {},
          "execution_count": 5
        }
      ]
    },
    {
      "cell_type": "markdown",
      "source": [
        "##改变张量的形状\n",
        "\n",
        "**例子解释：**\n",
        "tensor1是一个包含六个元素的向量，tensor3中只给出第一维的具体数值，第二维置为-1，tf会根据元素总数对第二维的值进行计算。\n",
        "\n",
        "因此，最后得到的tensor3会是一个[3,2]的向量\n"
      ],
      "metadata": {
        "id": "v1e0ZPlNRAFh"
      }
    },
    {
      "cell_type": "code",
      "source": [
        "tensor1 = tf.ones([1,2,3])\n",
        "print(tensor1)\n",
        "tensor2 = tf.reshape(tensor1,[2,3,1])\n",
        "tensor3 = tf.reshape(tensor1,[3,-1])"
      ],
      "metadata": {
        "id": "YUUH7P72RGPp"
      },
      "execution_count": 6,
      "outputs": []
    },
    {
      "cell_type": "code",
      "source": [
        "print(tensor1)\n",
        "print(tensor2)\n",
        "print(tensor3)"
      ],
      "metadata": {
        "colab": {
          "base_uri": "https://localhost:8080/"
        },
        "id": "krz5O3G5R1Yu",
        "outputId": "8c61ca21-d651-43f0-bd99-d314248a83a1"
      },
      "execution_count": 7,
      "outputs": [
        {
          "output_type": "stream",
          "name": "stdout",
          "text": [
            "tf.Tensor(\n",
            "[[[1. 1. 1.]\n",
            "  [1. 1. 1.]]], shape=(1, 2, 3), dtype=float32)\n",
            "tf.Tensor(\n",
            "[[[1.]\n",
            "  [1.]\n",
            "  [1.]]\n",
            "\n",
            " [[1.]\n",
            "  [1.]\n",
            "  [1.]]], shape=(2, 3, 1), dtype=float32)\n",
            "tf.Tensor(\n",
            "[[1. 1.]\n",
            " [1. 1.]\n",
            " [1. 1.]], shape=(3, 2), dtype=float32)\n"
          ]
        }
      ]
    }
  ]
}